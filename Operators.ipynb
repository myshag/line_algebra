{
 "cells": [
  {
   "cell_type": "markdown",
   "id": "a40d72bc",
   "metadata": {},
   "source": [
    "__1.__ Найти собственные векторы и собственные значения для линейного оператора, заданного матрицей\n",
    "\n",
    "$$A=\\begin{pmatrix}\n",
    "-1 & -6\\\\ \n",
    "2 & 6\n",
    "\\end{pmatrix}.$$"
   ]
  },
  {
   "cell_type": "code",
   "execution_count": 27,
   "id": "77004577",
   "metadata": {},
   "outputs": [
    {
     "name": "stdout",
     "output_type": "stream",
     "text": [
      "u =  [2. 3.]\n",
      "v =  [[-0.89442719  0.83205029]\n",
      " [ 0.4472136  -0.5547002 ]]\n"
     ]
    }
   ],
   "source": [
    "import numpy as np\n",
    "from  numpy.linalg import eig\n",
    "from  numpy.linalg import eigvals\n",
    "\n",
    "\n",
    "A = np.array([[-1,-6],[2,6]])\n",
    "u, v=eig(A)\n",
    "print(\"u = \",u)\n",
    "print(\"v = \",v)\n",
    "\n"
   ]
  },
  {
   "cell_type": "code",
   "execution_count": 24,
   "id": "be504735",
   "metadata": {},
   "outputs": [
    {
     "data": {
      "text/plain": [
       "array([[-1.78885438,  2.49615088],\n",
       "       [ 0.89442719, -1.66410059]])"
      ]
     },
     "execution_count": 24,
     "metadata": {},
     "output_type": "execute_result"
    }
   ],
   "source": [
    "A@v"
   ]
  },
  {
   "cell_type": "code",
   "execution_count": 26,
   "id": "5b2841db",
   "metadata": {},
   "outputs": [
    {
     "data": {
      "text/plain": [
       "array([[-1.78885438,  2.49615088],\n",
       "       [ 0.89442719, -1.66410059]])"
      ]
     },
     "execution_count": 26,
     "metadata": {},
     "output_type": "execute_result"
    }
   ],
   "source": [
    "u*v"
   ]
  },
  {
   "cell_type": "markdown",
   "id": "c2e4425b",
   "metadata": {},
   "source": [
    "__2.__ Дан оператор поворота на 180 градусов, задаваемый матрицей \n",
    "\n",
    "$$A=\\begin{pmatrix}\n",
    "-1 & 0\\\\ \n",
    "0 & -1\n",
    "\\end{pmatrix}.$$\n",
    "\n",
    "Показать, что __любой__ вектор является для него собственным."
   ]
  },
  {
   "cell_type": "markdown",
   "id": "a0dd3e5b",
   "metadata": {},
   "source": [
    "$$\\begin{pmatrix}\n",
    "1 & 1\\\\ \n",
    "0 & 1\n",
    "\\end{pmatrix}\n",
    "\\begin{pmatrix}\n",
    "x_{1}\\\\ \n",
    "x_{2}\n",
    "\\end{pmatrix}=\n",
    "\\lambda\n",
    "\\begin{pmatrix}\n",
    "x_{1}\\\\ \n",
    "x_{2}\n",
    "\\end{pmatrix}.\n",
    "$$\n"
   ]
  },
  {
   "cell_type": "markdown",
   "id": "5507fff5",
   "metadata": {},
   "source": [
    "$$\\begin{pmatrix}\n",
    "-x_{1}\\\\ \n",
    "-x_{2}\n",
    "\\end{pmatrix}\n",
    "=\n",
    "\\lambda\n",
    "\\begin{pmatrix}\n",
    "x_{1}\\\\ \n",
    "x_{2}\n",
    "\\end{pmatrix}.\n",
    "$$"
   ]
  },
  {
   "cell_type": "markdown",
   "id": "e46da71b",
   "metadata": {},
   "source": [
    "При $$\\lambda=-1$$ равеноство выполняется при любых $$\\begin{pmatrix}\n",
    "x_{1}\\\\ \n",
    "x_{2}\n",
    "\\end{pmatrix}\n",
    "$$\n",
    "Таким образом любой вектор является собственным"
   ]
  },
  {
   "cell_type": "markdown",
   "id": "f549c27f",
   "metadata": {},
   "source": [
    "__3.__ Пусть линейный оператор задан матрицей\n",
    "\n",
    "$$A=\\begin{pmatrix}\n",
    "1 & 1\\\\ \n",
    "-1 & 3\n",
    "\\end{pmatrix}.$$\n",
    "\n",
    "Установить, является ли вектор $x=(1,1)$ собственным вектором этого линейного оператора."
   ]
  },
  {
   "cell_type": "markdown",
   "id": "85f0bcbf",
   "metadata": {},
   "source": [
    "$$\\begin{pmatrix}\n",
    "1 & 1\\\\ \n",
    "0 & 1\n",
    "\\end{pmatrix}\n",
    "\\begin{pmatrix}\n",
    "x_{1}\\\\ \n",
    "x_{2}\n",
    "\\end{pmatrix}=\n",
    "\\lambda\n",
    "\\begin{pmatrix}\n",
    "x_{1}\\\\ \n",
    "x_{2}\n",
    "\\end{pmatrix}.\n",
    "$$\n"
   ]
  },
  {
   "cell_type": "markdown",
   "id": "7e93d09b",
   "metadata": {},
   "source": [
    "$$\\begin{pmatrix}\n",
    "2\\\\ \n",
    "2\n",
    "\\end{pmatrix}\n",
    "\\begin{pmatrix}\n",
    "x_{1}\\\\ \n",
    "x_{2}\n",
    "\\end{pmatrix}=\n",
    "\\lambda\n",
    "\\begin{pmatrix}\n",
    "x_{1}\\\\ \n",
    "x_{2}\n",
    "\\end{pmatrix}.\n",
    "$$\n"
   ]
  },
  {
   "cell_type": "markdown",
   "id": "bf53e5f0",
   "metadata": {},
   "source": [
    "$$\\lambda=2$$"
   ]
  },
  {
   "cell_type": "code",
   "execution_count": 31,
   "id": "5f5a5961",
   "metadata": {},
   "outputs": [],
   "source": [
    "import numpy as np\n",
    "from  numpy.linalg import eig\n",
    "from  numpy.linalg import eigvals\n",
    "\n",
    "\n",
    "A = np.array([[1,1],[-1,3]])\n",
    "v = np.array([1,1])\n"
   ]
  },
  {
   "cell_type": "code",
   "execution_count": 34,
   "id": "338a7918",
   "metadata": {},
   "outputs": [
    {
     "data": {
      "text/plain": [
       "array([2, 2])"
      ]
     },
     "execution_count": 34,
     "metadata": {},
     "output_type": "execute_result"
    }
   ],
   "source": [
    "v1=A@v\n",
    "v1"
   ]
  },
  {
   "cell_type": "code",
   "execution_count": 35,
   "id": "cdb8e096",
   "metadata": {},
   "outputs": [],
   "source": [
    "l = v1/v"
   ]
  },
  {
   "cell_type": "code",
   "execution_count": 36,
   "id": "a08e9e95",
   "metadata": {},
   "outputs": [
    {
     "data": {
      "text/plain": [
       "array([2., 2.])"
      ]
     },
     "execution_count": 36,
     "metadata": {},
     "output_type": "execute_result"
    }
   ],
   "source": [
    "l"
   ]
  },
  {
   "cell_type": "markdown",
   "id": "8be0730f",
   "metadata": {},
   "source": [
    "Таким образом, вектор  𝑥=(1,1)  является собственным вектором линейного оператора, заданного матрицей  𝐴 , и его собственное значение составляет  𝜆=2."
   ]
  },
  {
   "cell_type": "markdown",
   "id": "27e1a80b",
   "metadata": {},
   "source": [
    "**4.** Пусть линейный оператор задан матрицей\n",
    "\n",
    "$$A=\\begin{pmatrix} 0 & 3 & 0\\\\ 3 & 0 & 0\\\\ 0 & 0 & 3 \\end{pmatrix}.$$\n",
    "\n",
    "Установить, является ли вектор $x=(3, -3, -4)$ собственным вектором этого линейного оператора."
   ]
  },
  {
   "cell_type": "code",
   "execution_count": 41,
   "id": "fb33e736",
   "metadata": {},
   "outputs": [],
   "source": [
    "import numpy as np\n",
    "from  numpy.linalg import eig\n",
    "from  numpy.linalg import eigvals\n",
    "\n",
    "\n",
    "A = np.array([[0,3,0],[3,0,0],[0,0,3]])\n",
    "v = np.array([3,-3,-4])"
   ]
  },
  {
   "cell_type": "code",
   "execution_count": 42,
   "id": "7a218a4f",
   "metadata": {},
   "outputs": [
    {
     "data": {
      "text/plain": [
       "array([ -9,   9, -12])"
      ]
     },
     "execution_count": 42,
     "metadata": {},
     "output_type": "execute_result"
    }
   ],
   "source": [
    "v1=A@v\n",
    "v1"
   ]
  },
  {
   "cell_type": "code",
   "execution_count": 43,
   "id": "d8c7c254",
   "metadata": {},
   "outputs": [
    {
     "data": {
      "text/plain": [
       "array([-3., -3.,  3.])"
      ]
     },
     "execution_count": 43,
     "metadata": {},
     "output_type": "execute_result"
    }
   ],
   "source": [
    "l = v1/v\n",
    "l"
   ]
  },
  {
   "cell_type": "markdown",
   "id": "114977da",
   "metadata": {},
   "source": [
    "Таким образом, вектор  𝑥=(3,-3,-4)  является собственным вектором линейного оператора, заданного матрицей  𝐴 , и его собственное значение составляет  𝜆1=3,  𝜆2=-3,  𝜆1=-4."
   ]
  }
 ],
 "metadata": {
  "kernelspec": {
   "display_name": "Python 3 (ipykernel)",
   "language": "python",
   "name": "python3"
  },
  "language_info": {
   "codemirror_mode": {
    "name": "ipython",
    "version": 3
   },
   "file_extension": ".py",
   "mimetype": "text/x-python",
   "name": "python",
   "nbconvert_exporter": "python",
   "pygments_lexer": "ipython3",
   "version": "3.9.7"
  }
 },
 "nbformat": 4,
 "nbformat_minor": 5
}
